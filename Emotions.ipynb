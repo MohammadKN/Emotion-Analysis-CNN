{
 "cells": [
  {
   "cell_type": "code",
   "execution_count": 86,
   "id": "ba369ae0-f7bc-48d2-b391-1c7e597d9661",
   "metadata": {},
   "outputs": [],
   "source": [
    "import pandas as pd\n",
    "import matplotlib.pyplot as plt \n",
    "import numpy as np\n",
    "import re "
   ]
  },
  {
   "cell_type": "code",
   "execution_count": 88,
   "id": "bedaad0d-bc51-445b-9943-7b3bc822a0bb",
   "metadata": {},
   "outputs": [],
   "source": [
    "df = pd.read_csv(\"text.csv\")"
   ]
  },
  {
   "cell_type": "code",
   "execution_count": 89,
   "id": "dc4049ea-ba35-4e19-87ee-26abe99eeb95",
   "metadata": {},
   "outputs": [],
   "source": [
    "if df.columns[0] == \"Unnamed: 0\":\n",
    "    df.rename(columns={\"Unnamed: 0\": \"index\"}, inplace=True)\n",
    "df.set_index(\"index\", inplace= True)"
   ]
  },
  {
   "cell_type": "code",
   "execution_count": 90,
   "id": "6cc85e87-a90b-4359-ba11-c63bdabab5b7",
   "metadata": {},
   "outputs": [],
   "source": [
    "\n",
    "df[\"text\"] = df[\"text\"].str.lower()\n",
    "df[\"text\"] = df[\"text\"].str.strip()\n",
    "df['text'] = df['text'].apply(lambda x: re.sub('[^a-zA-Z]', ' ', x))\n"
   ]
  },
  {
   "cell_type": "code",
   "execution_count": 91,
   "id": "73fda1d3-245a-44e4-986c-622afb9e7955",
   "metadata": {},
   "outputs": [],
   "source": [
    "stop_words = {\n",
    "    'a', 'an', 'the', 'and', 'or', 'but', 'if', 'because', 'as',\n",
    "    'what', 'which', 'this', 'that', 'these', 'those',\n",
    "    'then', 'just', 'so', 'than', 'such', 'both', 'through', 'about',\n",
    "    'for', 'is', 'of', 'while', 'during', 'to', 'from', 'in', 'on',\n",
    "    'with', 'at', 'by', 'into', 'over', 'under', 'above', 'below',\n",
    "    'up', 'down', 'out', 'off', 'again', 'further', 'once',\n",
    "    'here', 'there', 'when', 'where', 'why', 'how',\n",
    "    'all', 'any', 'both', 'each', 'few', 'more', 'most', 'other',\n",
    "    'some', 'such', 'no', 'nor', 'not', 'only', 'own', 'same', 'so',\n",
    "    'than', 'too', 'very', 'can', 'will', 'just', 'don', 'should',\n",
    "    'now', 'am', 'are', 'was', 'were', 'be', 'been', 'being', 'have',\n",
    "    'has', 'had', 'do', 'does', 'did', 'having', 'doing', 'would',\n",
    "    'could', 'should', 'might', 'must', 'shall', 'may', 'also', 'i'\n",
    "    }\n",
    "\n",
    "def normalize_text(text):\n",
    "    text = text.lower()\n",
    "    text = re.sub(r'[^a-zA-Z]', ' ', text)\n",
    "    tokens = text.split()\n",
    "    tokens = [word for word in tokens if word not in stop_words]\n",
    "    text = ' '.join(tokens)\n",
    "    return text\n",
    "df['text'] = df['text'].apply(normalize_text)\n"
   ]
  },
  {
   "cell_type": "code",
   "execution_count": 102,
   "id": "549334ca-45e8-4d05-9d2f-1de430d36f01",
   "metadata": {},
   "outputs": [
    {
     "data": {
      "text/html": [
       "<div>\n",
       "<style scoped>\n",
       "    .dataframe tbody tr th:only-of-type {\n",
       "        vertical-align: middle;\n",
       "    }\n",
       "\n",
       "    .dataframe tbody tr th {\n",
       "        vertical-align: top;\n",
       "    }\n",
       "\n",
       "    .dataframe thead th {\n",
       "        text-align: right;\n",
       "    }\n",
       "</style>\n",
       "<table border=\"1\" class=\"dataframe\">\n",
       "  <thead>\n",
       "    <tr style=\"text-align: right;\">\n",
       "      <th></th>\n",
       "      <th>text</th>\n",
       "      <th>label</th>\n",
       "    </tr>\n",
       "    <tr>\n",
       "      <th>index</th>\n",
       "      <th></th>\n",
       "      <th></th>\n",
       "    </tr>\n",
       "  </thead>\n",
       "  <tbody>\n",
       "    <tr>\n",
       "      <th>0</th>\n",
       "      <td>feel really helpless heavy hearted</td>\n",
       "      <td>4</td>\n",
       "    </tr>\n",
       "    <tr>\n",
       "      <th>1</th>\n",
       "      <td>ive enjoyed able slouch relax unwind frankly n...</td>\n",
       "      <td>0</td>\n",
       "    </tr>\n",
       "    <tr>\n",
       "      <th>2</th>\n",
       "      <td>gave my internship dmrg feeling distraught</td>\n",
       "      <td>4</td>\n",
       "    </tr>\n",
       "    <tr>\n",
       "      <th>3</th>\n",
       "      <td>dont know feel lost</td>\n",
       "      <td>0</td>\n",
       "    </tr>\n",
       "    <tr>\n",
       "      <th>4</th>\n",
       "      <td>kindergarten teacher thoroughly weary my job a...</td>\n",
       "      <td>4</td>\n",
       "    </tr>\n",
       "  </tbody>\n",
       "</table>\n",
       "</div>"
      ],
      "text/plain": [
       "                                                    text  label\n",
       "index                                                          \n",
       "0                     feel really helpless heavy hearted      4\n",
       "1      ive enjoyed able slouch relax unwind frankly n...      0\n",
       "2             gave my internship dmrg feeling distraught      4\n",
       "3                                    dont know feel lost      0\n",
       "4      kindergarten teacher thoroughly weary my job a...      4"
      ]
     },
     "execution_count": 102,
     "metadata": {},
     "output_type": "execute_result"
    }
   ],
   "source": [
    "df.head()"
   ]
  },
  {
   "cell_type": "code",
   "execution_count": null,
   "id": "dc4a5652-4130-4435-8f3b-ee822babb49f",
   "metadata": {},
   "outputs": [],
   "source": []
  }
 ],
 "metadata": {
  "kernelspec": {
   "display_name": "Python 3 (ipykernel)",
   "language": "python",
   "name": "python3"
  },
  "language_info": {
   "codemirror_mode": {
    "name": "ipython",
    "version": 3
   },
   "file_extension": ".py",
   "mimetype": "text/x-python",
   "name": "python",
   "nbconvert_exporter": "python",
   "pygments_lexer": "ipython3",
   "version": "3.12.7"
  }
 },
 "nbformat": 4,
 "nbformat_minor": 5
}
