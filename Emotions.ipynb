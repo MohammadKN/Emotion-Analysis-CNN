{
 "cells": [
  {
   "cell_type": "code",
   "execution_count": 1,
   "id": "ba369ae0-f7bc-48d2-b391-1c7e597d9661",
   "metadata": {},
   "outputs": [],
   "source": [
    "import pandas as pd\n",
    "import matplotlib.pyplot as plt \n",
    "import numpy as np\n",
    "import re \n",
    "import nltk\n",
    "from nltk.corpus import wordnet as wn\n"
   ]
  },
  {
   "cell_type": "code",
   "execution_count": 2,
   "id": "bedaad0d-bc51-445b-9943-7b3bc822a0bb",
   "metadata": {},
   "outputs": [
    {
     "name": "stdout",
     "output_type": "stream",
     "text": [
      "                                                     text  label\n",
      "index                                                           \n",
      "0           i just feel really helpless and heavy hearted      4\n",
      "1       ive enjoyed being able to slouch about relax a...      0\n",
      "2       i gave up my internship with the dmrg and am f...      4\n",
      "3                              i dont know i feel so lost      0\n",
      "4       i am a kindergarten teacher and i am thoroughl...      4\n",
      "...                                                   ...    ...\n",
      "416804  i feel like telling these horny devils to find...      2\n",
      "416805  i began to realize that when i was feeling agi...      3\n",
      "416806  i feel very curious be why previous early dawn...      5\n",
      "416807  i feel that becuase of the tyranical nature of...      3\n",
      "416808  i think that after i had spent some time inves...      5\n",
      "\n",
      "[416809 rows x 2 columns]\n"
     ]
    }
   ],
   "source": [
    "df = pd.read_csv(\"text.csv\")\n",
    "\n",
    "with open (\"stopwords.txt\", \"r\") as f:\n",
    "    stopwords = set(f.read().splitlines())\n",
    "if df.columns[0] == \"Unnamed: 0\":\n",
    "    df.rename(columns={\"Unnamed: 0\": \"index\"}, inplace=True)\n",
    "df.set_index(\"index\", inplace= True)\n",
    "print(df)"
   ]
  },
  {
   "cell_type": "code",
   "execution_count": 3,
   "id": "73fda1d3-245a-44e4-986c-622afb9e7955",
   "metadata": {},
   "outputs": [
    {
     "name": "stdout",
     "output_type": "stream",
     "text": [
      "feel              289939\n",
      "feeling           134185\n",
      "like               73972\n",
      "im                 61662\n",
      "am                 54541\n",
      "                   ...  \n",
      "hollygems              1\n",
      "lunges                 1\n",
      "intractability         1\n",
      "sickineing             1\n",
      "testimoney             1\n",
      "Name: count, Length: 74815, dtype: int64\n"
     ]
    }
   ],
   "source": [
    "tokens = []\n",
    "def normalize_text(text):\n",
    "    text = text.lower()\n",
    "    row_tokens = text.split()\n",
    "    row_tokens = [word for word in row_tokens if word not in stopwords]\n",
    "    tokens.extend(row_tokens)\n",
    "    text = re.sub(r'[^a-zA-Z]', ' ', text)\n",
    "    return text\n",
    "df['text'] = df['text'].apply(normalize_text)\n",
    "vc = pd.Series(tokens).value_counts()\n",
    "words = vc.index.tolist()\n",
    "print(vc)\n"
   ]
  },
  {
   "cell_type": "code",
   "execution_count": 4,
   "id": "37ffaa9a-aa69-4548-8b4d-ac12a618ac62",
   "metadata": {},
   "outputs": [],
   "source": [
    "list_sadness = []\n",
    "list_joy = []\n",
    "list_love = []\n",
    "list_anger = []\n",
    "list_fear = []\n",
    "list_surprise = []\n",
    "list_unlabeled = []\n",
    "def categorize_emotions(row):\n",
    "    if row['label'] == 0:\n",
    "        list_sadness.append(row['text'])\n",
    "    elif row['label'] == 1:\n",
    "        list_joy.append(row['text'])\n",
    "    elif row['label'] == 2:\n",
    "        list_love.append(row['text'])\n",
    "    elif row['label'] == 3:\n",
    "        list_anger.append(row['text'])\n",
    "    elif row['label'] == 4:\n",
    "        list_fear.append(row['text'])\n",
    "    elif row['label'] == 5:\n",
    "        list_surprise.append(row['text'])\n",
    "    return row\n",
    "df = df.apply(categorize_emotions, axis=1)"
   ]
  },
  {
   "cell_type": "code",
   "execution_count": 5,
   "id": "fc203c89",
   "metadata": {},
   "outputs": [],
   "source": [
    "sadness = pd.DataFrame({'text': list_sadness, 'label': 0})\n",
    "joy = pd.DataFrame({'text': list_joy, 'label': 1})\n",
    "love = pd.DataFrame({'text': list_love, 'label': 2})\n",
    "anger = pd.DataFrame({'text': list_anger, 'label': 3})\n",
    "fear = pd.DataFrame({'text': list_fear, 'label': 4})\n",
    "surprise = pd.DataFrame({'text': list_surprise, 'label': 5})"
   ]
  },
  {
   "cell_type": "code",
   "execution_count": 6,
   "id": "1ada1320",
   "metadata": {},
   "outputs": [],
   "source": [
    "sorted_df = pd.concat([sadness, joy, love, anger, fear, surprise], ignore_index=True)\n"
   ]
  },
  {
   "cell_type": "code",
   "execution_count": 7,
   "id": "5bcb2a9a",
   "metadata": {},
   "outputs": [
    {
     "data": {
      "text/html": [
       "<div>\n",
       "<style scoped>\n",
       "    .dataframe tbody tr th:only-of-type {\n",
       "        vertical-align: middle;\n",
       "    }\n",
       "\n",
       "    .dataframe tbody tr th {\n",
       "        vertical-align: top;\n",
       "    }\n",
       "\n",
       "    .dataframe thead th {\n",
       "        text-align: right;\n",
       "    }\n",
       "</style>\n",
       "<table border=\"1\" class=\"dataframe\">\n",
       "  <thead>\n",
       "    <tr style=\"text-align: right;\">\n",
       "      <th></th>\n",
       "      <th>text</th>\n",
       "      <th>label</th>\n",
       "    </tr>\n",
       "  </thead>\n",
       "  <tbody>\n",
       "    <tr>\n",
       "      <th>0</th>\n",
       "      <td>ive enjoyed being able to slouch about relax a...</td>\n",
       "      <td>0</td>\n",
       "    </tr>\n",
       "    <tr>\n",
       "      <th>1</th>\n",
       "      <td>i dont know i feel so lost</td>\n",
       "      <td>0</td>\n",
       "    </tr>\n",
       "    <tr>\n",
       "      <th>2</th>\n",
       "      <td>i was beginning to feel quite disheartened</td>\n",
       "      <td>0</td>\n",
       "    </tr>\n",
       "    <tr>\n",
       "      <th>3</th>\n",
       "      <td>i can still lose the weight without feeling de...</td>\n",
       "      <td>0</td>\n",
       "    </tr>\n",
       "    <tr>\n",
       "      <th>4</th>\n",
       "      <td>im feeling a little like a damaged tree and th...</td>\n",
       "      <td>0</td>\n",
       "    </tr>\n",
       "  </tbody>\n",
       "</table>\n",
       "</div>"
      ],
      "text/plain": [
       "                                                text  label\n",
       "0  ive enjoyed being able to slouch about relax a...      0\n",
       "1                         i dont know i feel so lost      0\n",
       "2         i was beginning to feel quite disheartened      0\n",
       "3  i can still lose the weight without feeling de...      0\n",
       "4  im feeling a little like a damaged tree and th...      0"
      ]
     },
     "execution_count": 7,
     "metadata": {},
     "output_type": "execute_result"
    }
   ],
   "source": [
    "sorted_df.head()"
   ]
  },
  {
   "cell_type": "code",
   "execution_count": 8,
   "id": "010e6bc8",
   "metadata": {},
   "outputs": [
    {
     "data": {
      "text/plain": [
       "pandas.core.frame.DataFrame"
      ]
     },
     "execution_count": 8,
     "metadata": {},
     "output_type": "execute_result"
    }
   ],
   "source": [
    "type(df)"
   ]
  },
  {
   "cell_type": "code",
   "execution_count": 9,
   "id": "c154d73b",
   "metadata": {},
   "outputs": [],
   "source": [
    "sadness_tokens  = []\n",
    "joy_tokens      = []\n",
    "love_tokens     = []\n",
    "anger_tokens    = []\n",
    "fear_tokens     = []\n",
    "surprise_tokens = []\n",
    "\n",
    "def tokenize_sadness(row):\n",
    "    token = row['text'].split()\n",
    "    sadness_tokens.extend(token)\n",
    "    return row\n",
    "def tokenize_joy(row):\n",
    "    token = row['text'].split()\n",
    "    joy_tokens.extend(token)\n",
    "    return row\n",
    "def tokenize_love(row):\n",
    "    token = row['text'].split()\n",
    "    love_tokens.extend(token)\n",
    "    return row\n",
    "def tokenize_anger(row):\n",
    "    token = row['text'].split()\n",
    "    anger_tokens.extend(token)\n",
    "    return row\n",
    "def tokenize_fear(row):\n",
    "    token = row['text'].split()\n",
    "    fear_tokens.extend(token)\n",
    "    return row\n",
    "def tokenize_surprise(row):\n",
    "    token = row['text'].split()\n",
    "    surprise_tokens.extend(token)\n",
    "    return row\n",
    "sadness = sadness.apply(tokenize_sadness, axis=1)\n",
    "joy = joy.apply(tokenize_joy, axis=1)\n",
    "love = love.apply(tokenize_love, axis=1)\n",
    "anger = anger.apply(tokenize_anger, axis=1)\n",
    "fear = fear.apply(tokenize_fear, axis=1)\n",
    "surprise = surprise.apply(tokenize_surprise, axis=1)\n"
   ]
  },
  {
   "cell_type": "code",
   "execution_count": 10,
   "id": "5b5ee467",
   "metadata": {},
   "outputs": [],
   "source": [
    "sadness_words_vc  = pd.Series(sadness_tokens).value_counts()\n",
    "joy_words_vc      = pd.Series(joy_tokens).value_counts()\n",
    "love_words_vc     = pd.Series(love_tokens).value_counts()\n",
    "anger_words_vc    = pd.Series(anger_tokens).value_counts()\n",
    "fear_words_vc     = pd.Series(fear_tokens).value_counts()\n",
    "surprise_words_vc = pd.Series(surprise_tokens).value_counts()"
   ]
  },
  {
   "cell_type": "code",
   "execution_count": 11,
   "id": "7af75214",
   "metadata": {},
   "outputs": [
    {
     "data": {
      "text/plain": [
       "i           198644\n",
       "feel         84184\n",
       "and          70589\n",
       "to           60555\n",
       "the          56262\n",
       "             ...  \n",
       "unhappy       1505\n",
       "terrible      1503\n",
       "shitty        1494\n",
       "off           1494\n",
       "helpless      1491\n",
       "Name: count, Length: 200, dtype: int64"
      ]
     },
     "execution_count": 11,
     "metadata": {},
     "output_type": "execute_result"
    }
   ],
   "source": [
    "sadness_words_vc.head(200)"
   ]
  },
  {
   "cell_type": "code",
   "execution_count": 12,
   "id": "1e55bad1",
   "metadata": {},
   "outputs": [
    {
     "data": {
      "text/plain": [
       "i          225154\n",
       "feel       102709\n",
       "and         86957\n",
       "to          85554\n",
       "the         79354\n",
       "            ...  \n",
       "glad         1756\n",
       "sweet        1745\n",
       "proud        1736\n",
       "getting      1732\n",
       "while        1726\n",
       "Name: count, Length: 200, dtype: int64"
      ]
     },
     "execution_count": 12,
     "metadata": {},
     "output_type": "execute_result"
    }
   ],
   "source": [
    "joy_words_vc.head(200)\n"
   ]
  },
  {
   "cell_type": "code",
   "execution_count": 13,
   "id": "91a4c9a3",
   "metadata": {},
   "outputs": [
    {
     "data": {
      "text/plain": [
       "i          56675\n",
       "feel       24463\n",
       "and        22462\n",
       "the        21567\n",
       "to         20979\n",
       "a          15772\n",
       "of         13461\n",
       "that       11769\n",
       "my         11453\n",
       "feeling    10303\n",
       "in          7866\n",
       "like        7558\n",
       "it          7210\n",
       "for         6763\n",
       "me          6043\n",
       "have        5770\n",
       "is          5313\n",
       "so          5243\n",
       "this        4895\n",
       "you         4821\n",
       "im          4775\n",
       "but         4762\n",
       "with        4724\n",
       "be          4577\n",
       "am          4399\n",
       "was         4357\n",
       "about       4333\n",
       "not         4238\n",
       "as          4144\n",
       "on          3607\n",
       "just        2891\n",
       "more        2802\n",
       "all         2723\n",
       "when        2673\n",
       "or          2600\n",
       "can         2564\n",
       "at          2504\n",
       "love        2365\n",
       "her         2300\n",
       "very        2289\n",
       "are         2274\n",
       "really      2247\n",
       "because     2202\n",
       "do          2154\n",
       "know        2077\n",
       "how         2073\n",
       "he          2033\n",
       "what        1962\n",
       "t           1960\n",
       "if          1952\n",
       "Name: count, dtype: int64"
      ]
     },
     "execution_count": 13,
     "metadata": {},
     "output_type": "execute_result"
    }
   ],
   "source": [
    "love_words_vc.head(50)\n"
   ]
  },
  {
   "cell_type": "code",
   "execution_count": 14,
   "id": "98c474b9",
   "metadata": {},
   "outputs": [
    {
     "data": {
      "text/plain": [
       "i          93430\n",
       "feel       37717\n",
       "and        33570\n",
       "to         30176\n",
       "the        27873\n",
       "a          21523\n",
       "feeling    19236\n",
       "that       17073\n",
       "of         16617\n",
       "my         14297\n",
       "it         11598\n",
       "in         10434\n",
       "like       10367\n",
       "im          9298\n",
       "me          9236\n",
       "so          8809\n",
       "but         8584\n",
       "was         8537\n",
       "for         7998\n",
       "with        7990\n",
       "have        7591\n",
       "is          6979\n",
       "am          6944\n",
       "not         6818\n",
       "this        6744\n",
       "when        6279\n",
       "at          6110\n",
       "be          6089\n",
       "about       5836\n",
       "just        5768\n",
       "or          5681\n",
       "on          5376\n",
       "you         5283\n",
       "because     4993\n",
       "as          4893\n",
       "all         4221\n",
       "up          4146\n",
       "by          4090\n",
       "t           3899\n",
       "do          3881\n",
       "really      3771\n",
       "myself      3766\n",
       "can         3433\n",
       "know        3399\n",
       "out         3352\n",
       "get         3340\n",
       "if          3279\n",
       "being       3203\n",
       "more        3142\n",
       "been        3087\n",
       "Name: count, dtype: int64"
      ]
     },
     "execution_count": 14,
     "metadata": {},
     "output_type": "execute_result"
    }
   ],
   "source": [
    "anger_words_vc.head(50)\n"
   ]
  },
  {
   "cell_type": "code",
   "execution_count": 15,
   "id": "05b98c2e",
   "metadata": {},
   "outputs": [
    {
     "data": {
      "text/plain": [
       "i        77495\n",
       "feel     30913\n",
       "to       28211\n",
       "and      27600\n",
       "the      23126\n",
       "         ...  \n",
       "left       687\n",
       "might      684\n",
       "take       672\n",
       "while      670\n",
       "away       669\n",
       "Name: count, Length: 200, dtype: int64"
      ]
     },
     "execution_count": 15,
     "metadata": {},
     "output_type": "execute_result"
    }
   ],
   "source": [
    "fear_words_vc.head(200)\n"
   ]
  },
  {
   "cell_type": "code",
   "execution_count": 16,
   "id": "fddade2c",
   "metadata": {},
   "outputs": [
    {
     "data": {
      "text/plain": [
       "i             24805\n",
       "feel           9953\n",
       "and            9101\n",
       "the            8466\n",
       "to             7631\n",
       "              ...  \n",
       "makes           188\n",
       "someone         188\n",
       "completely      188\n",
       "sure            188\n",
       "off             185\n",
       "Name: count, Length: 200, dtype: int64"
      ]
     },
     "execution_count": 16,
     "metadata": {},
     "output_type": "execute_result"
    }
   ],
   "source": [
    "surprise_words_vc.head(200)"
   ]
  },
  {
   "cell_type": "code",
   "execution_count": null,
   "id": "1bb5d76a",
   "metadata": {},
   "outputs": [],
   "source": []
  },
  {
   "cell_type": "code",
   "execution_count": 17,
   "id": "ea6bb76b",
   "metadata": {},
   "outputs": [
    {
     "name": "stdout",
     "output_type": "stream",
     "text": [
      "Sadness: 121187\n",
      " \n",
      "joy: 141067\n",
      " \n",
      "love: 34554\n",
      " \n",
      "anger: 57317\n",
      " \n",
      "fear: 47712\n",
      " \n",
      "surprise: 14972\n",
      " \n"
     ]
    }
   ],
   "source": [
    "print(\"Sadness:\", len(sadness))\n",
    "print(\" \")\n",
    "print(\"joy:\", len(joy))\n",
    "print(\" \")\n",
    "print(\"love:\", len(love))\n",
    "print(\" \")\n",
    "print(\"anger:\", len(anger))\n",
    "print(\" \")\n",
    "print(\"fear:\", len(fear))\n",
    "print(\" \")\n",
    "print(\"surprise:\", len(surprise))\n",
    "print(\" \")"
   ]
  },
  {
   "cell_type": "code",
   "execution_count": 19,
   "id": "549334ca-45e8-4d05-9d2f-1de430d36f01",
   "metadata": {},
   "outputs": [],
   "source": [
    "lemma = \"\"\n",
    "def get_synonyms(word):\n",
    "    synonyms = set()\n",
    "    for syn in wn.synsets(word):\n",
    "        for lemma in syn.lemmas():\n",
    "            synonyms.add(lemma.name().lower())\n",
    "    return list(synonyms)\n",
    "\n",
    "def get_antonyms(word):\n",
    "    antonyms = set()\n",
    "    for syn in wn.synsets(word):\n",
    "        for lemma in syn.lemmas():\n",
    "            for ant in lemma.antonyms():\n",
    "                antonyms.add(ant.name().lower())\n",
    "    return list(antonyms)\n",
    "\n",
    "def get_hypernyms(word):\n",
    "    hypernyms = set()\n",
    "    for syn in wn.synsets(word):\n",
    "        for hyper in syn.hypernyms():\n",
    "            for lemma in hyper.lemmas():\n",
    "                hypernyms.add(lemma.name().lower())\n",
    "    return list(hypernyms)\n",
    "\n",
    "def get_hyponyms(word):\n",
    "    hyponyms = set()\n",
    "    for syn in wn.synsets(word):\n",
    "        for hypo in syn.hyponyms():\n",
    "            for lemma in hypo.lemmas():\n",
    "                hyponyms.add(lemma.name().lower())\n",
    "    return list(hyponyms)"
   ]
  },
  {
   "cell_type": "code",
   "execution_count": 37,
   "id": "ea2912da-84fe-452a-a296-78848726a1f1",
   "metadata": {},
   "outputs": [
    {
     "name": "stdout",
     "output_type": "stream",
     "text": [
      "{'tempestuous', 'furious', 'wild', 'angry', 'raging'}\n"
     ]
    }
   ],
   "source": [
    "text = \"I feel angry and frustrated\"\n",
    "\n",
    "new_words = text.split()\n",
    "emotion_related_words = []\n",
    "\n",
    "word = \"angry\"\n",
    "emotion_related_words.extend(get_synonyms(word))\n",
    "emotion_related_words.extend(get_antonyms(word))\n",
    "emotion_related_words.extend(get_hyponyms(word))\n",
    "emotion_related_words.extend(get_hypernyms(word))\n",
    "\n",
    "print(set(get_synonyms(word)))"
   ]
  },
  {
   "cell_type": "code",
   "execution_count": null,
   "id": "7b2c23cb-3080-4a43-ac83-94f7066865ec",
   "metadata": {},
   "outputs": [],
   "source": []
  }
 ],
 "metadata": {
  "kernelspec": {
   "display_name": "Python 3 (ipykernel)",
   "language": "python",
   "name": "python3"
  },
  "language_info": {
   "codemirror_mode": {
    "name": "ipython",
    "version": 3
   },
   "file_extension": ".py",
   "mimetype": "text/x-python",
   "name": "python",
   "nbconvert_exporter": "python",
   "pygments_lexer": "ipython3",
   "version": "3.12.7"
  }
 },
 "nbformat": 4,
 "nbformat_minor": 5
}
