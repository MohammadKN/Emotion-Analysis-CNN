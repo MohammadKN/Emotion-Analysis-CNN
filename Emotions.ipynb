{
 "cells": [
  {
   "cell_type": "code",
   "execution_count": 28,
   "id": "ba369ae0-f7bc-48d2-b391-1c7e597d9661",
   "metadata": {},
   "outputs": [
    {
     "name": "stderr",
     "output_type": "stream",
     "text": [
      "[nltk_data] Downloading package wordnet to\n",
      "[nltk_data]     C:\\Users\\User\\AppData\\Roaming\\nltk_data...\n",
      "[nltk_data]   Package wordnet is already up-to-date!\n"
     ]
    }
   ],
   "source": [
    "import pandas as pd\n",
    "import matplotlib.pyplot as plt \n",
    "import numpy as np\n",
    "import re \n",
    "import nltk\n",
    "from nltk.corpus import wordnet as wn, stopwords"
   ]
  },
  {
   "cell_type": "code",
   "execution_count": 2,
   "id": "bedaad0d-bc51-445b-9943-7b3bc822a0bb",
   "metadata": {},
   "outputs": [
    {
     "data": {
      "text/html": [
       "<div>\n",
       "<style scoped>\n",
       "    .dataframe tbody tr th:only-of-type {\n",
       "        vertical-align: middle;\n",
       "    }\n",
       "\n",
       "    .dataframe tbody tr th {\n",
       "        vertical-align: top;\n",
       "    }\n",
       "\n",
       "    .dataframe thead th {\n",
       "        text-align: right;\n",
       "    }\n",
       "</style>\n",
       "<table border=\"1\" class=\"dataframe\">\n",
       "  <thead>\n",
       "    <tr style=\"text-align: right;\">\n",
       "      <th></th>\n",
       "      <th>Unnamed: 0</th>\n",
       "      <th>text</th>\n",
       "      <th>label</th>\n",
       "    </tr>\n",
       "  </thead>\n",
       "  <tbody>\n",
       "    <tr>\n",
       "      <th>0</th>\n",
       "      <td>0</td>\n",
       "      <td>i just feel really helpless and heavy hearted</td>\n",
       "      <td>4</td>\n",
       "    </tr>\n",
       "    <tr>\n",
       "      <th>1</th>\n",
       "      <td>1</td>\n",
       "      <td>ive enjoyed being able to slouch about relax a...</td>\n",
       "      <td>0</td>\n",
       "    </tr>\n",
       "    <tr>\n",
       "      <th>2</th>\n",
       "      <td>2</td>\n",
       "      <td>i gave up my internship with the dmrg and am f...</td>\n",
       "      <td>4</td>\n",
       "    </tr>\n",
       "    <tr>\n",
       "      <th>3</th>\n",
       "      <td>3</td>\n",
       "      <td>i dont know i feel so lost</td>\n",
       "      <td>0</td>\n",
       "    </tr>\n",
       "    <tr>\n",
       "      <th>4</th>\n",
       "      <td>4</td>\n",
       "      <td>i am a kindergarten teacher and i am thoroughl...</td>\n",
       "      <td>4</td>\n",
       "    </tr>\n",
       "  </tbody>\n",
       "</table>\n",
       "</div>"
      ],
      "text/plain": [
       "   Unnamed: 0                                               text  label\n",
       "0           0      i just feel really helpless and heavy hearted      4\n",
       "1           1  ive enjoyed being able to slouch about relax a...      0\n",
       "2           2  i gave up my internship with the dmrg and am f...      4\n",
       "3           3                         i dont know i feel so lost      0\n",
       "4           4  i am a kindergarten teacher and i am thoroughl...      4"
      ]
     },
     "execution_count": 2,
     "metadata": {},
     "output_type": "execute_result"
    }
   ],
   "source": [
    "df = pd.read_csv(\"text.csv\")\n",
    "df.head()"
   ]
  },
  {
   "cell_type": "code",
   "execution_count": 3,
   "id": "dc4049ea-ba35-4e19-87ee-26abe99eeb95",
   "metadata": {},
   "outputs": [],
   "source": [
    "if df.columns[0] == \"Unnamed: 0\":\n",
    "    df.rename(columns={\"Unnamed: 0\": \"index\"}, inplace=True)\n",
    "df.set_index(\"index\", inplace= True)"
   ]
  },
  {
   "cell_type": "code",
   "execution_count": 40,
   "id": "73fda1d3-245a-44e4-986c-622afb9e7955",
   "metadata": {},
   "outputs": [],
   "source": [
    "stop_words = set(stopwords.words('english'))\n",
    "tokens = []\n",
    "def normalize_text(text):\n",
    "    text = text.lower()\n",
    "    token = text.split()\n",
    "    token = [word for word in token if word not in stop_words]\n",
    "    tokens.extend(token)\n",
    "    text = ' '.join(token)\n",
    "    text = re.sub(r'[^a-zA-Z]', ' ', text)\n",
    "    return text\n",
    "df['text'] = df['text'].apply(normalize_text)\n",
    "vc = pd.Series(tokens).value_counts()   # descending by default\n",
    "words = vc.index.tolist()\n"
   ]
  },
  {
   "cell_type": "code",
   "execution_count": 34,
   "id": "549334ca-45e8-4d05-9d2f-1de430d36f01",
   "metadata": {},
   "outputs": [],
   "source": [
    "def get_synonyms(word):\n",
    "    synonyms = set()\n",
    "    for syn in wn.synsets(word):\n",
    "        for lemma in syn.lemmas():\n",
    "            synonyms.add(lemma.name().lower())\n",
    "    return list(synonyms)\n",
    "\n",
    "def get_antonyms(word):\n",
    "    antonyms = set()\n",
    "    for syn in wn.synsets(word):\n",
    "        for lemma in syn.lemmas():\n",
    "            for ant in lemma.antonyms():\n",
    "                antonyms.add(ant.name().lower())\n",
    "    return list(antonyms)\n",
    "\n",
    "def get_hypernyms(word):\n",
    "    hypernyms = set()\n",
    "    for syn in wn.synsets(word):\n",
    "        for hyper in syn.hypernyms():\n",
    "            for lemma in hyper.lemmas():\n",
    "                hypernyms.add(lemma.name().lower())\n",
    "    return list(hypernyms)\n",
    "\n",
    "def get_hyponyms(word):\n",
    "    hyponyms = set()\n",
    "    for syn in wn.synsets(word):\n",
    "        for hypo in syn.hyponyms():\n",
    "            for lemma in hypo.lemmas():\n",
    "                hyponyms.add(lemma.name().lower())\n",
    "    return list(hyponyms)"
   ]
  },
  {
   "cell_type": "code",
   "execution_count": 46,
   "id": "ea2912da-84fe-452a-a296-78848726a1f1",
   "metadata": {},
   "outputs": [
    {
     "ename": "AttributeError",
     "evalue": "'list' object has no attribute 'lower'",
     "output_type": "error",
     "traceback": [
      "\u001b[1;31m---------------------------------------------------------------------------\u001b[0m",
      "\u001b[1;31mAttributeError\u001b[0m                            Traceback (most recent call last)",
      "Cell \u001b[1;32mIn[46], line 7\u001b[0m\n\u001b[0;32m      4\u001b[0m emotion_related_words \u001b[38;5;241m=\u001b[39m []\n\u001b[0;32m      6\u001b[0m \u001b[38;5;28;01mfor\u001b[39;00m word \u001b[38;5;129;01min\u001b[39;00m new_words:\n\u001b[1;32m----> 7\u001b[0m     emotion_related_words\u001b[38;5;241m.\u001b[39mextend(get_synonyms(new_words))\n\u001b[0;32m      8\u001b[0m     emotion_related_words\u001b[38;5;241m.\u001b[39mextend(get_antonyms(new_words))\n\u001b[0;32m      9\u001b[0m     emotion_related_words\u001b[38;5;241m.\u001b[39mextend(get_hyponyms(new_words))\n",
      "Cell \u001b[1;32mIn[34], line 3\u001b[0m, in \u001b[0;36mget_synonyms\u001b[1;34m(word)\u001b[0m\n\u001b[0;32m      1\u001b[0m \u001b[38;5;28;01mdef\u001b[39;00m \u001b[38;5;21mget_synonyms\u001b[39m(word):\n\u001b[0;32m      2\u001b[0m     synonyms \u001b[38;5;241m=\u001b[39m \u001b[38;5;28mset\u001b[39m()\n\u001b[1;32m----> 3\u001b[0m     \u001b[38;5;28;01mfor\u001b[39;00m syn \u001b[38;5;129;01min\u001b[39;00m wn\u001b[38;5;241m.\u001b[39msynsets(word):\n\u001b[0;32m      4\u001b[0m         \u001b[38;5;28;01mfor\u001b[39;00m lemma \u001b[38;5;129;01min\u001b[39;00m syn\u001b[38;5;241m.\u001b[39mlemmas():\n\u001b[0;32m      5\u001b[0m             synonyms\u001b[38;5;241m.\u001b[39madd(lemma\u001b[38;5;241m.\u001b[39mname()\u001b[38;5;241m.\u001b[39mlower())\n",
      "File \u001b[1;32mM:\\python\\Lib\\site-packages\\nltk\\corpus\\reader\\wordnet.py:1765\u001b[0m, in \u001b[0;36mWordNetCorpusReader.synsets\u001b[1;34m(self, lemma, pos, lang, check_exceptions)\u001b[0m\n\u001b[0;32m   1758\u001b[0m \u001b[38;5;28;01mdef\u001b[39;00m \u001b[38;5;21msynsets\u001b[39m(\u001b[38;5;28mself\u001b[39m, lemma, pos\u001b[38;5;241m=\u001b[39m\u001b[38;5;28;01mNone\u001b[39;00m, lang\u001b[38;5;241m=\u001b[39m\u001b[38;5;124m\"\u001b[39m\u001b[38;5;124meng\u001b[39m\u001b[38;5;124m\"\u001b[39m, check_exceptions\u001b[38;5;241m=\u001b[39m\u001b[38;5;28;01mTrue\u001b[39;00m):\n\u001b[0;32m   1759\u001b[0m \u001b[38;5;250m    \u001b[39m\u001b[38;5;124;03m\"\"\"Load all synsets with a given lemma and part of speech tag.\u001b[39;00m\n\u001b[0;32m   1760\u001b[0m \u001b[38;5;124;03m    If no pos is specified, all synsets for all parts of speech\u001b[39;00m\n\u001b[0;32m   1761\u001b[0m \u001b[38;5;124;03m    will be loaded.\u001b[39;00m\n\u001b[0;32m   1762\u001b[0m \u001b[38;5;124;03m    If lang is specified, all the synsets associated with the lemma name\u001b[39;00m\n\u001b[0;32m   1763\u001b[0m \u001b[38;5;124;03m    of that language will be returned.\u001b[39;00m\n\u001b[0;32m   1764\u001b[0m \u001b[38;5;124;03m    \"\"\"\u001b[39;00m\n\u001b[1;32m-> 1765\u001b[0m     lemma \u001b[38;5;241m=\u001b[39m lemma\u001b[38;5;241m.\u001b[39mlower()\n\u001b[0;32m   1767\u001b[0m     \u001b[38;5;28;01mif\u001b[39;00m lang \u001b[38;5;241m==\u001b[39m \u001b[38;5;124m\"\u001b[39m\u001b[38;5;124meng\u001b[39m\u001b[38;5;124m\"\u001b[39m:\n\u001b[0;32m   1768\u001b[0m         get_synset \u001b[38;5;241m=\u001b[39m \u001b[38;5;28mself\u001b[39m\u001b[38;5;241m.\u001b[39msynset_from_pos_and_offset\n",
      "\u001b[1;31mAttributeError\u001b[0m: 'list' object has no attribute 'lower'"
     ]
    }
   ],
   "source": [
    "text = \"I feel angry and frustrated\"\n",
    "\n",
    "new_words = text.split()\n",
    "emotion_related_words = []\n",
    "\n",
    "for word in new_words:\n",
    "    emotion_related_words.extend(get_synonyms(new_words))\n",
    "    emotion_related_words.extend(get_antonyms(new_words))\n",
    "    emotion_related_words.extend(get_hyponyms(new_words))\n",
    "    emotion_related_words.extend(get_hypernyms(new_words))\n",
    "\n",
    "print(set(emotion_related_words))"
   ]
  },
  {
   "cell_type": "code",
   "execution_count": null,
   "id": "dc4a5652-4130-4435-8f3b-ee822babb49f",
   "metadata": {},
   "outputs": [],
   "source": [
    "token = df.iloc[1]['text'].split()\n",
    "token"
   ]
  },
  {
   "cell_type": "code",
   "execution_count": null,
   "id": "7b2c23cb-3080-4a43-ac83-94f7066865ec",
   "metadata": {},
   "outputs": [],
   "source": []
  }
 ],
 "metadata": {
  "kernelspec": {
   "display_name": "Python 3 (ipykernel)",
   "language": "python",
   "name": "python3"
  },
  "language_info": {
   "codemirror_mode": {
    "name": "ipython",
    "version": 3
   },
   "file_extension": ".py",
   "mimetype": "text/x-python",
   "name": "python",
   "nbconvert_exporter": "python",
   "pygments_lexer": "ipython3",
   "version": "3.12.7"
  }
 },
 "nbformat": 4,
 "nbformat_minor": 5
}
